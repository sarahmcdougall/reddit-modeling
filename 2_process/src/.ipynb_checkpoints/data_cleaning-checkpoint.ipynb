{
 "cells": [
  {
   "cell_type": "code",
   "execution_count": 29,
   "id": "f66a7bcf-b033-462d-9247-745581694e68",
   "metadata": {},
   "outputs": [],
   "source": [
    "import pandas as pd\n",
    "import re\n",
    "from contractions import fix\n",
    "import nltk\n",
    "from nltk.corpus import stopwords"
   ]
  },
  {
   "cell_type": "code",
   "execution_count": 30,
   "id": "ae116484-68b6-4a7a-a6e1-e316c1c392cf",
   "metadata": {},
   "outputs": [
    {
     "name": "stdout",
     "output_type": "stream",
     "text": [
      "  subreddit                                              title  \\\n",
      "0  pregnant                             Out of control snoring   \n",
      "1  pregnant                                 Pregnancy hormones   \n",
      "2  pregnant                             Biological father test   \n",
      "3  pregnant  People who say they loved being pregnant must ...   \n",
      "4  pregnant                                            Zofran?   \n",
      "\n",
      "                                                text   created_utc       id  \n",
      "0  I snore. I always have, ever since I was a kid...  1.739371e+09  1ins3li  \n",
      "1  In my third trimester and feeling extra clingy...  1.739371e+09  1ins3a5  \n",
      "2  There is a possibility my pregnancy is caused ...  1.739364e+09  1inprew  \n",
      "3  I’m only 5 and a half weeks pregnant at this p...  1.739370e+09  1inrzzd  \n",
      "4  I'm not even 8 weeks, and I'm barely holding i...  1.739370e+09  1inrz7w  \n",
      "   post_id                                            comment\n",
      "0  1ins3li  \\n\\nWelcome to /r/pregnant! This is a space fo...\n",
      "1  1ins3a5  \\n\\nWelcome to /r/pregnant! This is a space fo...\n",
      "2  1inprew  \\n\\nWelcome to /r/pregnant! This is a space fo...\n",
      "3  1inrzzd  \\n\\nWelcome to /r/pregnant! This is a space fo...\n",
      "4  1inrzzd  Some people don’t have bad symptoms! I’m 10 we...\n"
     ]
    }
   ],
   "source": [
    "posts_df = pd.read_csv(\"reddit_posts.csv\")\n",
    "comments_df = pd.read_csv(\"reddit_comments.csv\")\n",
    "\n",
    "print(posts_df.head())\n",
    "print(comments_df.head())"
   ]
  },
  {
   "cell_type": "code",
   "execution_count": 31,
   "id": "2cbb98c8-9a07-4da5-8f7b-b21f1394d4f3",
   "metadata": {},
   "outputs": [],
   "source": [
    "news_df = pd.read_csv('news_data.csv')"
   ]
  },
  {
   "cell_type": "markdown",
   "id": "8eae2872-b740-4e65-84ba-81c5e3b2e1d4",
   "metadata": {},
   "source": [
    "# Data Cleaning"
   ]
  },
  {
   "cell_type": "markdown",
   "id": "0708f4bb-dea8-4dc8-919a-f593738e5ce0",
   "metadata": {},
   "source": [
    "## Inspect for missing values"
   ]
  },
  {
   "cell_type": "code",
   "execution_count": 32,
   "id": "2800914a-1683-4b67-b150-cb52dad40ad4",
   "metadata": {},
   "outputs": [
    {
     "data": {
      "text/plain": [
       "subreddit       0\n",
       "title           0\n",
       "text           71\n",
       "created_utc     0\n",
       "id              0\n",
       "dtype: int64"
      ]
     },
     "execution_count": 32,
     "metadata": {},
     "output_type": "execute_result"
    }
   ],
   "source": [
    "posts_df.isnull().sum()"
   ]
  },
  {
   "cell_type": "code",
   "execution_count": 33,
   "id": "b6a05354-7456-4ce8-83e7-375db91edeab",
   "metadata": {},
   "outputs": [],
   "source": [
    "# remove posts that are missing text\n",
    "posts_df = posts_df.dropna(subset=['text'])"
   ]
  },
  {
   "cell_type": "code",
   "execution_count": 34,
   "id": "35228356-ad71-412d-aa52-7d608664a6dd",
   "metadata": {},
   "outputs": [
    {
     "data": {
      "text/plain": [
       "post_id    0\n",
       "comment    0\n",
       "dtype: int64"
      ]
     },
     "execution_count": 34,
     "metadata": {},
     "output_type": "execute_result"
    }
   ],
   "source": [
    "comments_df.isnull().sum()"
   ]
  },
  {
   "cell_type": "code",
   "execution_count": 35,
   "id": "8c9b5f96-8f48-4bd6-8a72-f9a413b1732a",
   "metadata": {},
   "outputs": [
    {
     "data": {
      "text/plain": [
       "title           0\n",
       "description     0\n",
       "content         0\n",
       "published_at    0\n",
       "source          0\n",
       "url             0\n",
       "dtype: int64"
      ]
     },
     "execution_count": 35,
     "metadata": {},
     "output_type": "execute_result"
    }
   ],
   "source": [
    "news_df.isnull().sum()"
   ]
  },
  {
   "cell_type": "markdown",
   "id": "bfd198ac-ce43-435b-9122-820953e6f8d1",
   "metadata": {},
   "source": [
    "## Check for duplicate posts or comments"
   ]
  },
  {
   "cell_type": "code",
   "execution_count": 36,
   "id": "46d1f7c5-1c65-487d-a368-5c0cb3839f9e",
   "metadata": {},
   "outputs": [
    {
     "data": {
      "text/plain": [
       "0"
      ]
     },
     "execution_count": 36,
     "metadata": {},
     "output_type": "execute_result"
    }
   ],
   "source": [
    "posts_df.duplicated().sum()"
   ]
  },
  {
   "cell_type": "code",
   "execution_count": 37,
   "id": "89007297-da3c-4bd5-b44a-db59e5864850",
   "metadata": {},
   "outputs": [
    {
     "data": {
      "text/plain": [
       "85"
      ]
     },
     "execution_count": 37,
     "metadata": {},
     "output_type": "execute_result"
    }
   ],
   "source": [
    "comments_df.duplicated().sum()"
   ]
  },
  {
   "cell_type": "code",
   "execution_count": 38,
   "id": "034d9119-3302-433f-9426-cbf3afc45872",
   "metadata": {},
   "outputs": [],
   "source": [
    "comments_df = comments_df.drop_duplicates()"
   ]
  },
  {
   "cell_type": "code",
   "execution_count": 39,
   "id": "55aa5833-c4e5-4811-9492-3ffb111b3e87",
   "metadata": {},
   "outputs": [
    {
     "data": {
      "text/plain": [
       "0"
      ]
     },
     "execution_count": 39,
     "metadata": {},
     "output_type": "execute_result"
    }
   ],
   "source": [
    "comments_df.duplicated().sum()"
   ]
  },
  {
   "cell_type": "code",
   "execution_count": 40,
   "id": "b94af670-3e79-45ca-8fae-087a50667698",
   "metadata": {},
   "outputs": [
    {
     "data": {
      "text/plain": [
       "0"
      ]
     },
     "execution_count": 40,
     "metadata": {},
     "output_type": "execute_result"
    }
   ],
   "source": [
    "news_df.duplicated().sum()"
   ]
  },
  {
   "cell_type": "markdown",
   "id": "708b48c1-b424-4b70-ba81-86b670359b2b",
   "metadata": {},
   "source": [
    "## Handling Special Characters\n",
    "We will keep emojis in the posts and comments since they may contribute to sentiment. Some sentiment analysis packages like VADER detect emojis, so we will want to use a package that acknowledges them when we get to the analysis step."
   ]
  },
  {
   "cell_type": "markdown",
   "id": "2a59e0a0-e4aa-4ec5-a58b-baeeb894731b",
   "metadata": {},
   "source": [
    "## Cleaning the text\n",
    "- remove links\n",
    "- remove punctuation\n",
    "- remove extra spaces"
   ]
  },
  {
   "cell_type": "code",
   "execution_count": 41,
   "id": "e8f4ca64-b88d-4955-b9bf-fb3d0e81b990",
   "metadata": {},
   "outputs": [],
   "source": [
    "def clean_text(text):\n",
    "    # make lowercase for consistency\n",
    "    text = text.lower()\n",
    "    text = re.sub(r\"\\s+\", \" \", text)  # remove extra spaces\n",
    "    text = re.sub(r\"http\\S+\", \"\", text)  # remove URLs\n",
    "    text = re.sub(r\"[^\\w\\s\\U0001F600-\\U0001F64F]\", \"\", text)  # keep words and emojis\n",
    "    text = re.sub(r\"[\\x00-\\x1F\\x7F]\", \"\", text) # remove control characters\n",
    "    return text.strip()\n",
    "\n",
    "comments_df[\"comment\"] = comments_df[\"comment\"].apply(clean_text)\n",
    "posts_df[\"title\"] = posts_df[\"title\"].apply(clean_text)\n",
    "posts_df[\"text\"] = posts_df[\"text\"].apply(clean_text)"
   ]
  },
  {
   "cell_type": "code",
   "execution_count": 42,
   "id": "2873c10e-765c-4dca-9956-68c13f723aa0",
   "metadata": {},
   "outputs": [
    {
     "data": {
      "text/html": [
       "<div>\n",
       "<style scoped>\n",
       "    .dataframe tbody tr th:only-of-type {\n",
       "        vertical-align: middle;\n",
       "    }\n",
       "\n",
       "    .dataframe tbody tr th {\n",
       "        vertical-align: top;\n",
       "    }\n",
       "\n",
       "    .dataframe thead th {\n",
       "        text-align: right;\n",
       "    }\n",
       "</style>\n",
       "<table border=\"1\" class=\"dataframe\">\n",
       "  <thead>\n",
       "    <tr style=\"text-align: right;\">\n",
       "      <th></th>\n",
       "      <th>subreddit</th>\n",
       "      <th>title</th>\n",
       "      <th>text</th>\n",
       "      <th>created_utc</th>\n",
       "      <th>id</th>\n",
       "    </tr>\n",
       "  </thead>\n",
       "  <tbody>\n",
       "    <tr>\n",
       "      <th>0</th>\n",
       "      <td>pregnant</td>\n",
       "      <td>out of control snoring</td>\n",
       "      <td>i snore i always have ever since i was a kid u...</td>\n",
       "      <td>1.739371e+09</td>\n",
       "      <td>1ins3li</td>\n",
       "    </tr>\n",
       "    <tr>\n",
       "      <th>1</th>\n",
       "      <td>pregnant</td>\n",
       "      <td>pregnancy hormones</td>\n",
       "      <td>in my third trimester and feeling extra clingy...</td>\n",
       "      <td>1.739371e+09</td>\n",
       "      <td>1ins3a5</td>\n",
       "    </tr>\n",
       "    <tr>\n",
       "      <th>2</th>\n",
       "      <td>pregnant</td>\n",
       "      <td>biological father test</td>\n",
       "      <td>there is a possibility my pregnancy is caused ...</td>\n",
       "      <td>1.739364e+09</td>\n",
       "      <td>1inprew</td>\n",
       "    </tr>\n",
       "    <tr>\n",
       "      <th>3</th>\n",
       "      <td>pregnant</td>\n",
       "      <td>people who say they loved being pregnant must ...</td>\n",
       "      <td>im only 5 and a half weeks pregnant at this po...</td>\n",
       "      <td>1.739370e+09</td>\n",
       "      <td>1inrzzd</td>\n",
       "    </tr>\n",
       "    <tr>\n",
       "      <th>4</th>\n",
       "      <td>pregnant</td>\n",
       "      <td>zofran</td>\n",
       "      <td>im not even 8 weeks and im barely holding it t...</td>\n",
       "      <td>1.739370e+09</td>\n",
       "      <td>1inrz7w</td>\n",
       "    </tr>\n",
       "  </tbody>\n",
       "</table>\n",
       "</div>"
      ],
      "text/plain": [
       "  subreddit                                              title  \\\n",
       "0  pregnant                             out of control snoring   \n",
       "1  pregnant                                 pregnancy hormones   \n",
       "2  pregnant                             biological father test   \n",
       "3  pregnant  people who say they loved being pregnant must ...   \n",
       "4  pregnant                                             zofran   \n",
       "\n",
       "                                                text   created_utc       id  \n",
       "0  i snore i always have ever since i was a kid u...  1.739371e+09  1ins3li  \n",
       "1  in my third trimester and feeling extra clingy...  1.739371e+09  1ins3a5  \n",
       "2  there is a possibility my pregnancy is caused ...  1.739364e+09  1inprew  \n",
       "3  im only 5 and a half weeks pregnant at this po...  1.739370e+09  1inrzzd  \n",
       "4  im not even 8 weeks and im barely holding it t...  1.739370e+09  1inrz7w  "
      ]
     },
     "execution_count": 42,
     "metadata": {},
     "output_type": "execute_result"
    }
   ],
   "source": [
    "posts_df.head()"
   ]
  },
  {
   "cell_type": "code",
   "execution_count": 43,
   "id": "431e6875-1a0f-41f6-9db0-7ff8aeb2ae63",
   "metadata": {},
   "outputs": [],
   "source": [
    "news_df['title'] = news_df['title'].apply(clean_text)\n",
    "news_df['description'] = news_df['description'].apply(clean_text)\n",
    "news_df['content'] = news_df['content'].apply(clean_text)"
   ]
  },
  {
   "cell_type": "markdown",
   "id": "acf2721d-5221-4b0b-80d6-dd9c14157f69",
   "metadata": {},
   "source": [
    "## Remove Moderator Messages and Other Irrelevant Comments\n",
    "These comments can pollute the results because they appear frequently in the subreddits but they do not provide any context about the post itself. They are auto-generated in the comments and should be removed from our analysis."
   ]
  },
  {
   "cell_type": "code",
   "execution_count": 44,
   "id": "812cac50-0af1-4bba-a959-628ef0a55ae0",
   "metadata": {},
   "outputs": [
    {
     "data": {
      "text/plain": [
       "(33737, 2)"
      ]
     },
     "execution_count": 44,
     "metadata": {},
     "output_type": "execute_result"
    }
   ],
   "source": [
    "comments_df.shape"
   ]
  },
  {
   "cell_type": "code",
   "execution_count": 45,
   "id": "3511d17b-ab82-475e-9386-1a9023c8cda9",
   "metadata": {},
   "outputs": [],
   "source": [
    "moderation_keywords = [\"welcome to\", \"please read the rules\", \"your post has been removed\"]\n",
    "comments_df = comments_df[~comments_df[\"comment\"].str.contains('|'.join(moderation_keywords), case=False, na=False)]"
   ]
  },
  {
   "cell_type": "code",
   "execution_count": 46,
   "id": "406242ac-828d-4b10-b370-02b99c17948f",
   "metadata": {},
   "outputs": [
    {
     "data": {
      "text/plain": [
       "(33200, 2)"
      ]
     },
     "execution_count": 46,
     "metadata": {},
     "output_type": "execute_result"
    }
   ],
   "source": [
    "comments_df.shape"
   ]
  },
  {
   "cell_type": "markdown",
   "id": "a7f9db88-0604-43a5-90f2-a6317ef02f38",
   "metadata": {},
   "source": [
    "## Handling Slang, Contractions, Stop Words, etc."
   ]
  },
  {
   "cell_type": "markdown",
   "id": "2cf9570b-99ee-46bc-9780-89d96eccb537",
   "metadata": {},
   "source": [
    "The `contractions` python package expands both contractions and acronyms"
   ]
  },
  {
   "cell_type": "code",
   "execution_count": 47,
   "id": "1730b1d3-c409-4d87-86e1-6d0d2aebd80e",
   "metadata": {},
   "outputs": [],
   "source": [
    "# handles contractions\n",
    "\n",
    "comments_df[\"comment\"] = comments_df[\"comment\"].apply(fix)\n",
    "posts_df[\"title\"] = posts_df[\"title\"].apply(fix)\n",
    "posts_df[\"text\"] = posts_df[\"text\"].apply(fix)"
   ]
  },
  {
   "cell_type": "code",
   "execution_count": 48,
   "id": "d4a65e76-2ed2-4707-96ba-9a8027cfa5cb",
   "metadata": {},
   "outputs": [],
   "source": [
    "news_df['title'] = news_df['title'].apply(fix)\n",
    "news_df['description'] = news_df['description'].apply(fix)\n",
    "news_df['content'] = news_df['content'].apply(fix)"
   ]
  },
  {
   "cell_type": "code",
   "execution_count": 49,
   "id": "00334f59-6be2-4be9-a4da-822023130dd8",
   "metadata": {},
   "outputs": [
    {
     "name": "stderr",
     "output_type": "stream",
     "text": [
      "[nltk_data] Downloading package stopwords to\n",
      "[nltk_data]     /Users/smcdougall/nltk_data...\n",
      "[nltk_data]   Package stopwords is already up-to-date!\n"
     ]
    }
   ],
   "source": [
    "# handle stop words\n",
    "nltk.download(\"stopwords\")\n",
    "stop_words = set(stopwords.words(\"english\"))\n",
    "\n",
    "def remove_stopwords(text):\n",
    "    return \" \".join([word for word in text.split() if word not in stop_words])"
   ]
  },
  {
   "cell_type": "code",
   "execution_count": 50,
   "id": "31f01e7a-4253-4c14-92c2-dfa805f7b74f",
   "metadata": {},
   "outputs": [],
   "source": [
    "comments_df[\"comment\"] = comments_df[\"comment\"].apply(remove_stopwords)\n",
    "posts_df[\"title\"] = posts_df[\"title\"].apply(remove_stopwords)\n",
    "posts_df[\"text\"] = posts_df[\"text\"].apply(remove_stopwords)"
   ]
  },
  {
   "cell_type": "code",
   "execution_count": 51,
   "id": "c1a1e1ec-b8c4-4de2-a59c-565727d06a17",
   "metadata": {},
   "outputs": [],
   "source": [
    "news_df['title'] = news_df['title'].apply(remove_stopwords)\n",
    "news_df['description'] = news_df['description'].apply(remove_stopwords)\n",
    "news_df['content'] = news_df['content'].apply(remove_stopwords)"
   ]
  },
  {
   "cell_type": "code",
   "execution_count": 52,
   "id": "ec1060ae-6f2b-43d2-b8ab-95ca37159a44",
   "metadata": {},
   "outputs": [
    {
     "name": "stderr",
     "output_type": "stream",
     "text": [
      "[nltk_data] Downloading package wordnet to\n",
      "[nltk_data]     /Users/smcdougall/nltk_data...\n",
      "[nltk_data]   Package wordnet is already up-to-date!\n"
     ]
    }
   ],
   "source": [
    "# lemmatization\n",
    "from nltk.stem import WordNetLemmatizer\n",
    "\n",
    "nltk.download(\"wordnet\")\n",
    "lemmatizer = WordNetLemmatizer()\n",
    "\n",
    "def lemmatize_text(text):\n",
    "    return \" \".join([lemmatizer.lemmatize(word) for word in text.split()])"
   ]
  },
  {
   "cell_type": "code",
   "execution_count": 53,
   "id": "6204db5e-0e47-4a62-a664-6fbf159b7c83",
   "metadata": {},
   "outputs": [],
   "source": [
    "comments_df[\"comment\"] = comments_df[\"comment\"].apply(lemmatize_text)\n",
    "posts_df[\"title\"] = posts_df[\"title\"].apply(lemmatize_text)\n",
    "posts_df[\"text\"] = posts_df[\"text\"].apply(lemmatize_text)"
   ]
  },
  {
   "cell_type": "code",
   "execution_count": 54,
   "id": "a526fdb6-49be-4093-8020-fbc2984237f5",
   "metadata": {},
   "outputs": [],
   "source": [
    "news_df['title'] = news_df['title'].apply(lemmatize_text)\n",
    "news_df['description'] = news_df['description'].apply(lemmatize_text)\n",
    "news_df['content'] = news_df['content'].apply(lemmatize_text)"
   ]
  },
  {
   "cell_type": "code",
   "execution_count": 55,
   "id": "2cd6c1a4-2c0e-4b68-a80c-7d2149bedecd",
   "metadata": {},
   "outputs": [],
   "source": [
    "# remove comments that are too short because we can't do a proper sentiment analysis on them\n",
    "comments_df = comments_df[comments_df[\"comment\"].str.split().str.len().between(3, 1000)]"
   ]
  },
  {
   "cell_type": "code",
   "execution_count": 56,
   "id": "5349f788-8dd0-4a1a-8cf1-ed34ba672ea1",
   "metadata": {},
   "outputs": [
    {
     "data": {
      "text/plain": [
       "(31830, 2)"
      ]
     },
     "execution_count": 56,
     "metadata": {},
     "output_type": "execute_result"
    }
   ],
   "source": [
    "comments_df.shape"
   ]
  },
  {
   "cell_type": "code",
   "execution_count": 57,
   "id": "e4d5d789-5906-495f-b477-ec8446bcdcfc",
   "metadata": {},
   "outputs": [
    {
     "data": {
      "text/html": [
       "<div>\n",
       "<style scoped>\n",
       "    .dataframe tbody tr th:only-of-type {\n",
       "        vertical-align: middle;\n",
       "    }\n",
       "\n",
       "    .dataframe tbody tr th {\n",
       "        vertical-align: top;\n",
       "    }\n",
       "\n",
       "    .dataframe thead th {\n",
       "        text-align: right;\n",
       "    }\n",
       "</style>\n",
       "<table border=\"1\" class=\"dataframe\">\n",
       "  <thead>\n",
       "    <tr style=\"text-align: right;\">\n",
       "      <th></th>\n",
       "      <th>post_id</th>\n",
       "      <th>comment</th>\n",
       "    </tr>\n",
       "  </thead>\n",
       "  <tbody>\n",
       "    <tr>\n",
       "      <th>4</th>\n",
       "      <td>1inrzzd</td>\n",
       "      <td>people bad symptom 10 week tomorrow barely bad...</td>\n",
       "    </tr>\n",
       "    <tr>\n",
       "      <th>5</th>\n",
       "      <td>1inrzzd</td>\n",
       "      <td>actually like pregnant still 7 week 4 day seco...</td>\n",
       "    </tr>\n",
       "    <tr>\n",
       "      <th>6</th>\n",
       "      <td>1inrzzd</td>\n",
       "      <td>20 week love sure first trimester hard already...</td>\n",
       "    </tr>\n",
       "    <tr>\n",
       "      <th>7</th>\n",
       "      <td>1inrzzd</td>\n",
       "      <td>really rough first trimester nausea exhaustion...</td>\n",
       "    </tr>\n",
       "    <tr>\n",
       "      <th>8</th>\n",
       "      <td>1inrzzd</td>\n",
       "      <td>every pregnancy different often get better sec...</td>\n",
       "    </tr>\n",
       "  </tbody>\n",
       "</table>\n",
       "</div>"
      ],
      "text/plain": [
       "   post_id                                            comment\n",
       "4  1inrzzd  people bad symptom 10 week tomorrow barely bad...\n",
       "5  1inrzzd  actually like pregnant still 7 week 4 day seco...\n",
       "6  1inrzzd  20 week love sure first trimester hard already...\n",
       "7  1inrzzd  really rough first trimester nausea exhaustion...\n",
       "8  1inrzzd  every pregnancy different often get better sec..."
      ]
     },
     "execution_count": 57,
     "metadata": {},
     "output_type": "execute_result"
    }
   ],
   "source": [
    "comments_df.head()"
   ]
  },
  {
   "cell_type": "code",
   "execution_count": 58,
   "id": "6cd0cd39-2d4c-49bc-99b5-1b093640f805",
   "metadata": {},
   "outputs": [
    {
     "data": {
      "text/plain": [
       "(31830, 2)"
      ]
     },
     "execution_count": 58,
     "metadata": {},
     "output_type": "execute_result"
    }
   ],
   "source": [
    "comments_df.shape"
   ]
  },
  {
   "cell_type": "code",
   "execution_count": 59,
   "id": "f81d3800-0da9-4849-b4b0-5cf396bb9f68",
   "metadata": {},
   "outputs": [],
   "source": [
    "comments_df.to_csv(\"reddit_comments_cleaned.csv\", index=False)\n",
    "posts_df.to_csv(\"reddit_posts_cleaned.csv\", index=False)\n",
    "news_df.to_csv(\"news_cleaned.csv\", index=False)"
   ]
  }
 ],
 "metadata": {
  "kernelspec": {
   "display_name": "Python 3 (ipykernel)",
   "language": "python",
   "name": "python3"
  },
  "language_info": {
   "codemirror_mode": {
    "name": "ipython",
    "version": 3
   },
   "file_extension": ".py",
   "mimetype": "text/x-python",
   "name": "python",
   "nbconvert_exporter": "python",
   "pygments_lexer": "ipython3",
   "version": "3.12.8"
  }
 },
 "nbformat": 4,
 "nbformat_minor": 5
}
