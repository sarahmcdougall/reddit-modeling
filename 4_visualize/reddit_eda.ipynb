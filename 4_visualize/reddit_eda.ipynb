{
 "cells": [
  {
   "cell_type": "code",
   "execution_count": 1,
   "id": "1aef82dc-3037-4e7c-8b59-ebd62a37b2f6",
   "metadata": {},
   "outputs": [],
   "source": [
    "import pandas as pd\n",
    "import re\n",
    "from contractions import fix\n",
    "import nltk\n",
    "from nltk.corpus import stopwords"
   ]
  },
  {
   "cell_type": "code",
   "execution_count": 2,
   "id": "37b7c33a-1423-4a40-b38f-94519345115f",
   "metadata": {},
   "outputs": [
    {
     "name": "stdout",
     "output_type": "stream",
     "text": [
      "  subreddit                                   title  \\\n",
      "0  pregnant                            progesterone   \n",
      "1  pregnant                            tell parents   \n",
      "2  pregnant                         books diversity   \n",
      "3  pregnant                 meal train baby arrives   \n",
      "4  pregnant  fetal doppler picked mysterious voices   \n",
      "\n",
      "                                                text   created_utc       id  \n",
      "0  miscarriage august recently found pregnant wee...  1.738705e+09  1iht3w2  \n",
      "1  getting right childs father open idea dad shut...  1.738704e+09  1ihsytn  \n",
      "2  ftm started build baby registry one things inc...  1.738704e+09  1ihsyti  \n",
      "3  someone set meal train baby arrived appreciate...  1.738704e+09  1ihswyq  \n",
      "4  16 week appointment afternoon routine check he...  1.738704e+09  1ihswg9  \n",
      "   post_id                                            comment\n",
      "0  1iht3w2  welcome rpregnant space everyone prochoice pro...\n",
      "1  1ihsytn  welcome rpregnant space everyone prochoice pro...\n",
      "2  1ihsytn                   would baby deserves grandparents\n",
      "3  1ihsytn       personally would also shoes kind coparenting\n",
      "4  1ihsytn  would tell first prepared reaction positive ne...\n"
     ]
    }
   ],
   "source": [
    "posts_df = pd.read_csv(\"reddit_posts_cleaned.csv\")\n",
    "comments_df = pd.read_csv(\"reddit_comments_cleaned.csv\")\n",
    "\n",
    "print(posts_df.head())\n",
    "print(comments_df.head())"
   ]
  },
  {
   "cell_type": "code",
   "execution_count": null,
   "id": "adc97e1a-943b-4d3b-b42c-c6f2380dbda3",
   "metadata": {},
   "outputs": [],
   "source": []
  }
 ],
 "metadata": {
  "kernelspec": {
   "display_name": "Python 3 (ipykernel)",
   "language": "python",
   "name": "python3"
  },
  "language_info": {
   "codemirror_mode": {
    "name": "ipython",
    "version": 3
   },
   "file_extension": ".py",
   "mimetype": "text/x-python",
   "name": "python",
   "nbconvert_exporter": "python",
   "pygments_lexer": "ipython3",
   "version": "3.12.8"
  }
 },
 "nbformat": 4,
 "nbformat_minor": 5
}
