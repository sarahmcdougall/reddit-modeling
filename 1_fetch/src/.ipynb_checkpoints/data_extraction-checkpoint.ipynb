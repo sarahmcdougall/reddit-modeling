{
 "cells": [
  {
   "cell_type": "markdown",
   "id": "a58d8f9d-e86f-417a-a1de-d0077b95bd16",
   "metadata": {},
   "source": [
    "# Analyzing Online Discussions on Women's Health\n"
   ]
  },
  {
   "cell_type": "markdown",
   "id": "e939eb4d-6094-4d72-abd0-1baa3f59c1a9",
   "metadata": {},
   "source": [
    "## Connect to Reddit API"
   ]
  },
  {
   "cell_type": "markdown",
   "id": "8120f673-d909-4cce-a242-93a279d259ad",
   "metadata": {},
   "source": [
    "The Python Reddit API Wrapper (PRAW) provides access to posts by subreddit asynchronously."
   ]
  },
  {
   "cell_type": "code",
   "execution_count": 1,
   "id": "05b3079c-3e33-4402-8c98-dfaad5ae8a3a",
   "metadata": {},
   "outputs": [],
   "source": [
    "import praw\n",
    "import time\n",
    "import pandas as pd"
   ]
  },
  {
   "cell_type": "code",
   "execution_count": 2,
   "id": "385b1c20-9550-47c0-8756-55e58b150cdf",
   "metadata": {},
   "outputs": [],
   "source": [
    "reddit_api = praw.Reddit(\n",
    "    client_id=\"09RsFctLtmCvUwL1Idw33A\",\n",
    "    client_secret=\"2XQNFmYwQ3JmUcKI3NTuiaqK580OgQ\",\n",
    "    user_agent=\"uspicious-Air-8308\"\n",
    ")"
   ]
  },
  {
   "cell_type": "markdown",
   "id": "99a231e1-3d83-48be-b596-f08ce0a40483",
   "metadata": {},
   "source": [
    "### Example Data Fetch\n",
    "With the Reddit API, we can specify which subreddit we are interested in pulling information from, and we can access certain data from the post, such as the title, score, id, and url for the post:"
   ]
  },
  {
   "cell_type": "code",
   "execution_count": 3,
   "id": "01696894-6b97-4488-a577-dda02dea2530",
   "metadata": {},
   "outputs": [
    {
     "name": "stdout",
     "output_type": "stream",
     "text": [
      "Weekly Reminder: Community Rules 1 1iggeap https://www.reddit.com/r/BabyBumps/comments/1iggeap/weekly_reminder_community_rules/\n",
      "Introduction and Daily Picture Thread 1 1ihf64l https://www.reddit.com/r/BabyBumps/comments/1ihf64l/introduction_and_daily_picture_thread/\n",
      "I’m a ‘we’re pregnant ‘ gal. 277 1ihhl8m https://www.reddit.com/r/BabyBumps/comments/1ihhl8m/im_a_were_pregnant_gal/\n",
      "Anyone else feel *really* unattractive while pregnant? 108 1ihg4bl https://www.reddit.com/r/BabyBumps/comments/1ihg4bl/anyone_else_feel_really_unattractive_while/\n",
      "So Much For A Late Gender Reveal 28 1ihnb6l https://www.reddit.com/r/BabyBumps/comments/1ihnb6l/so_much_for_a_late_gender_reveal/\n"
     ]
    }
   ],
   "source": [
    "subreddit = reddit_api.subreddit(\"BabyBumps\")\n",
    "for post in subreddit.hot(limit=5):\n",
    "    print(post.title, post.score, post.id, post.url)"
   ]
  },
  {
   "cell_type": "markdown",
   "id": "b93ea538-9822-4008-b987-2901f9dd0bbf",
   "metadata": {},
   "source": [
    "### Establishing our Scope"
   ]
  },
  {
   "cell_type": "markdown",
   "id": "1691d19e-6319-4273-930e-ff797beba3fe",
   "metadata": {},
   "source": [
    "We are interested in the following subreddits:\n",
    "1. `r/pregnant`\n",
    "2. `r/babybumps`\n",
    "3. `r/beyondthebump`\n",
    "4. `r/pregnancyproblems`\n",
    "5. `r/pregnancyafterloss`\n",
    "6. `r/newparents`\n",
    "7. `r/postpartum_depression`\n",
    "8. `r/postpartum_anxiety`\n",
    "9. `r/fitpregnancy`\n",
    "10. `r/newborns`"
   ]
  },
  {
   "cell_type": "code",
   "execution_count": 5,
   "id": "26f082b8-7cab-459e-b759-ec1183d50506",
   "metadata": {},
   "outputs": [],
   "source": [
    "PREGNANT = \"pregnant\"\n",
    "BABY_BUMPS = \"babybumps\"\n",
    "BEYOND_THE_BUMP = \"beyondthebump\"\n",
    "PREGNANCY_PROBLEMS = \"pregnancyproblems\"\n",
    "PREGNANCY_AFTER_LOSS = \"pregnancyafterloss\"\n",
    "NEW_PARENTS = \"newparents\"\n",
    "POSTPARTUM_DEPRESSION = \"postpartum_depression\"\n",
    "POSTPARTUM_ANXIETY = \"postpartum_anxiety\"\n",
    "FIT_PREGNANCY = \"fitpregnancy\"\n",
    "NEWBORNS = \"newborns\"\n",
    "\n",
    "subreddits = [PREGNANT, BABY_BUMPS, BEYOND_THE_BUMP, PREGNANCY_PROBLEMS, PREGNANCY_AFTER_LOSS, NEW_PARENTS, POSTPARTUM_DEPRESSION,\n",
    "             POSTPARTUM_ANXIETY, FIT_PREGNANCY, NEWBORNS]"
   ]
  },
  {
   "cell_type": "code",
   "execution_count": 6,
   "id": "ea10fe2b-2764-424d-a3f8-d867a2c95ab8",
   "metadata": {},
   "outputs": [
    {
     "name": "stdout",
     "output_type": "stream",
     "text": [
      "Description for 'r/pregnant': A safer space for all pregnant people.\n",
      "\n",
      "Description for 'r/babybumps': A place for pregnant redditors, those who have been pregnant, those who wish to be in the future, and anyone who supports them. Not the place for bump or ultrasound pics, sorry!\n",
      "Description for 'r/beyondthebump': A place for new parents, new parents to be, and old parents who want to help out. Posts focusing on the transition into living with your new little one and any issues that may come up. Ranting and gushing is welcome!\n",
      "Description for 'r/pregnancyproblems': *** PLEASE READ RULES BEFORE POSTING***\n",
      "\n",
      "Pregnancy can impact dozens of aspects of your life so we made a space where you can rant, ask for advice and find someone to relate to!\n",
      "Description for 'r/pregnancyafterloss': This sub is for people who are pregnant after any type of pregnancy or infant loss.  \n",
      "\n",
      "At PAL, the daily and weekly threads act like the main sub in other subreddits: nearly everything gets posted there. Standalone posts require mod approval (and will have a delay). Details about how to participate are in our Rules and FAQ.\n",
      "Description for 'r/newparents': A place to share thoughts, questions, support, and tips about being a new parent to a young child.\n",
      "Description for 'r/postpartum_depression': A non-judgemental place for you to ask for help and vent your frustrations on anything related to issues postpartum, be they hormonal, parental or other mental health issues. PPD, PND, PPA, PPOCD, APD etc welcome.\n",
      "Description for 'r/postpartum_anxiety': You hear about Postpartum Depression, but rarely hear about Postpartum Anxiety.\n",
      "Description for 'r/fitpregnancy': An inclusive space to discuss fitness and pregnancy - pre-natal, during, and post-partum. Geared towards motivating and inspiring pregnant people to stay healthy and fit throughout.\n",
      "Description for 'r/newborns': A subreddit for parents/caretakers of newborn babies and those who are getting ready to have babies.\n"
     ]
    }
   ],
   "source": [
    "for sub_name in subreddits:\n",
    "    sub = reddit_api.subreddit(sub_name)\n",
    "    print(f\"Description for 'r/{sub_name}': {sub.public_description}\")"
   ]
  },
  {
   "cell_type": "markdown",
   "id": "49d136e4-e9fc-4661-a353-606a477377f9",
   "metadata": {},
   "source": [
    "## Data Collection Strategy"
   ]
  },
  {
   "cell_type": "markdown",
   "id": "382808bf-a42e-4004-901a-09788db1dcce",
   "metadata": {},
   "source": [
    "We are interested in:\n",
    "- subreddit title\n",
    "- subreddit text body\n",
    "- top comments from the post"
   ]
  },
  {
   "cell_type": "code",
   "execution_count": 7,
   "id": "d7c512cf-dc09-4209-aaf4-46226643d9bf",
   "metadata": {},
   "outputs": [],
   "source": [
    "# we are only interested in posts from the past year\n",
    "cutoff_timestamp = time.time() - (365 * 24 * 60 * 60)"
   ]
  },
  {
   "cell_type": "markdown",
   "id": "542f254c-de0d-45c3-a67e-236649cf8eed",
   "metadata": {},
   "source": [
    "### Fetch posts:"
   ]
  },
  {
   "cell_type": "code",
   "execution_count": 8,
   "id": "fa83b216-42b3-44ed-9655-d2fd5df147fc",
   "metadata": {},
   "outputs": [],
   "source": [
    "def fetch_subreddit_posts(subreddit_name, limit=500):\n",
    "    subreddit = reddit_api.subreddit(subreddit_name)\n",
    "    \n",
    "    post_data = []\n",
    "    for post in subreddit.new(limit=limit):\n",
    "        if post.created_utc >= cutoff_timestamp:\n",
    "            post_data.append({\n",
    "                \"subreddit\": subreddit_name,\n",
    "                \"title\": post.title,\n",
    "                \"text\": post.selftext,\n",
    "                \"created_utc\": post.created_utc,\n",
    "                \"id\": post.id\n",
    "            })\n",
    "    print(subreddit_name, len(post_data))\n",
    "    return pd.DataFrame(post_data)"
   ]
  },
  {
   "cell_type": "code",
   "execution_count": 9,
   "id": "81ecee89-ca45-4677-a860-fbb2cc084f68",
   "metadata": {},
   "outputs": [
    {
     "name": "stdout",
     "output_type": "stream",
     "text": [
      "pregnant 500\n",
      "babybumps 500\n",
      "beyondthebump 500\n",
      "pregnancyproblems 500\n",
      "pregnancyafterloss 500\n",
      "newparents 500\n",
      "postpartum_depression 500\n",
      "postpartum_anxiety 179\n",
      "fitpregnancy 500\n",
      "newborns 500\n",
      "Saved 4679 posts from the past year\n"
     ]
    }
   ],
   "source": [
    "all_posts = pd.concat([fetch_subreddit_posts(sub) for sub in subreddits], ignore_index=True)\n",
    "all_posts.to_csv(\"reddit_posts.csv\", index=False)\n",
    "print(f\"Saved {len(all_posts)} posts from the past year\")"
   ]
  },
  {
   "cell_type": "markdown",
   "id": "54270e10-22f3-4fe9-973e-fa9e5cd4aeba",
   "metadata": {},
   "source": [
    "### Fetch top comments for each post:"
   ]
  },
  {
   "cell_type": "markdown",
   "id": "5a245b47-2f0a-497e-a923-30834f567abb",
   "metadata": {},
   "source": [
    "Note that Reddit has a rate limit of 60 requests per minute."
   ]
  },
  {
   "cell_type": "code",
   "execution_count": 1,
   "id": "d1f2408a-fd7b-486f-93e2-617b105d2c62",
   "metadata": {},
   "outputs": [],
   "source": [
    "def fetch_post_comments(post_id, limit=50):\n",
    "    original_post = reddit_api.submission(id=post_id)\n",
    "    original_post.comments.replace_more(limit=0)\n",
    "\n",
    "    comments = []\n",
    "    for comment in original_post.comments[:limit]:\n",
    "        comments.append({\n",
    "            \"post_id\": post_id,\n",
    "            \"comment\": comment.body\n",
    "        })\n",
    "\n",
    "    return pd.DataFrame(comments)"
   ]
  },
  {
   "cell_type": "code",
   "execution_count": 11,
   "id": "e07e9fd4-8c12-47e4-bb09-b1b745fe0799",
   "metadata": {},
   "outputs": [],
   "source": [
    "post_ids = all_posts[\"id\"].tolist()"
   ]
  },
  {
   "cell_type": "code",
   "execution_count": 12,
   "id": "9ea13540-fc59-4449-8009-6fdadf01a403",
   "metadata": {},
   "outputs": [
    {
     "name": "stdout",
     "output_type": "stream",
     "text": [
      "Rate limit reached. Sleeping for 60 seconds.\n",
      "Fetched comments for 100 posts so far\n",
      "Rate limit reached. Sleeping for 60 seconds.\n",
      "Rate limit reached. Sleeping for 60 seconds.\n",
      "Fetched comments for 200 posts so far\n",
      "Rate limit reached. Sleeping for 60 seconds.\n",
      "Fetched comments for 300 posts so far\n",
      "Rate limit reached. Sleeping for 60 seconds.\n",
      "Rate limit reached. Sleeping for 60 seconds.\n",
      "Fetched comments for 400 posts so far\n",
      "Rate limit reached. Sleeping for 60 seconds.\n",
      "Rate limit reached. Sleeping for 60 seconds.\n",
      "Fetched comments for 500 posts so far\n",
      "Rate limit reached. Sleeping for 60 seconds.\n",
      "Fetched comments for 600 posts so far\n",
      "Rate limit reached. Sleeping for 60 seconds.\n",
      "Rate limit reached. Sleeping for 60 seconds.\n",
      "Fetched comments for 700 posts so far\n",
      "Rate limit reached. Sleeping for 60 seconds.\n",
      "Rate limit reached. Sleeping for 60 seconds.\n",
      "Fetched comments for 800 posts so far\n",
      "Rate limit reached. Sleeping for 60 seconds.\n",
      "Fetched comments for 900 posts so far\n",
      "Rate limit reached. Sleeping for 60 seconds.\n",
      "Rate limit reached. Sleeping for 60 seconds.\n",
      "Fetched comments for 1000 posts so far\n",
      "Rate limit reached. Sleeping for 60 seconds.\n",
      "Rate limit reached. Sleeping for 60 seconds.\n",
      "Fetched comments for 1100 posts so far\n",
      "Rate limit reached. Sleeping for 60 seconds.\n",
      "Fetched comments for 1200 posts so far\n",
      "Rate limit reached. Sleeping for 60 seconds.\n",
      "Rate limit reached. Sleeping for 60 seconds.\n",
      "Fetched comments for 1300 posts so far\n",
      "Rate limit reached. Sleeping for 60 seconds.\n",
      "Rate limit reached. Sleeping for 60 seconds.\n",
      "Fetched comments for 1400 posts so far\n",
      "Rate limit reached. Sleeping for 60 seconds.\n",
      "Fetched comments for 1500 posts so far\n",
      "Rate limit reached. Sleeping for 60 seconds.\n",
      "Rate limit reached. Sleeping for 60 seconds.\n",
      "Fetched comments for 1600 posts so far\n",
      "Rate limit reached. Sleeping for 60 seconds.\n",
      "Rate limit reached. Sleeping for 60 seconds.\n",
      "Fetched comments for 1700 posts so far\n",
      "Rate limit reached. Sleeping for 60 seconds.\n",
      "Fetched comments for 1800 posts so far\n",
      "Rate limit reached. Sleeping for 60 seconds.\n",
      "Rate limit reached. Sleeping for 60 seconds.\n",
      "Fetched comments for 1900 posts so far\n",
      "Rate limit reached. Sleeping for 60 seconds.\n",
      "Rate limit reached. Sleeping for 60 seconds.\n",
      "Fetched comments for 2000 posts so far\n",
      "Rate limit reached. Sleeping for 60 seconds.\n",
      "Fetched comments for 2100 posts so far\n",
      "Rate limit reached. Sleeping for 60 seconds.\n",
      "Rate limit reached. Sleeping for 60 seconds.\n",
      "Fetched comments for 2200 posts so far\n",
      "Rate limit reached. Sleeping for 60 seconds.\n",
      "Rate limit reached. Sleeping for 60 seconds.\n",
      "Fetched comments for 2300 posts so far\n",
      "Rate limit reached. Sleeping for 60 seconds.\n",
      "Fetched comments for 2400 posts so far\n",
      "Rate limit reached. Sleeping for 60 seconds.\n",
      "Rate limit reached. Sleeping for 60 seconds.\n",
      "Fetched comments for 2500 posts so far\n",
      "Rate limit reached. Sleeping for 60 seconds.\n",
      "Rate limit reached. Sleeping for 60 seconds.\n",
      "Fetched comments for 2600 posts so far\n",
      "Rate limit reached. Sleeping for 60 seconds.\n",
      "Fetched comments for 2700 posts so far\n",
      "Rate limit reached. Sleeping for 60 seconds.\n",
      "Rate limit reached. Sleeping for 60 seconds.\n",
      "Fetched comments for 2800 posts so far\n",
      "Rate limit reached. Sleeping for 60 seconds.\n",
      "Rate limit reached. Sleeping for 60 seconds.\n",
      "Fetched comments for 2900 posts so far\n",
      "Rate limit reached. Sleeping for 60 seconds.\n",
      "Fetched comments for 3000 posts so far\n",
      "Rate limit reached. Sleeping for 60 seconds.\n",
      "Rate limit reached. Sleeping for 60 seconds.\n",
      "Fetched comments for 3100 posts so far\n",
      "Rate limit reached. Sleeping for 60 seconds.\n",
      "Rate limit reached. Sleeping for 60 seconds.\n",
      "Fetched comments for 3200 posts so far\n",
      "Rate limit reached. Sleeping for 60 seconds.\n",
      "Fetched comments for 3300 posts so far\n",
      "Rate limit reached. Sleeping for 60 seconds.\n",
      "Rate limit reached. Sleeping for 60 seconds.\n",
      "Fetched comments for 3400 posts so far\n",
      "Rate limit reached. Sleeping for 60 seconds.\n",
      "Rate limit reached. Sleeping for 60 seconds.\n",
      "Fetched comments for 3500 posts so far\n",
      "Rate limit reached. Sleeping for 60 seconds.\n",
      "Fetched comments for 3600 posts so far\n",
      "Rate limit reached. Sleeping for 60 seconds.\n",
      "Rate limit reached. Sleeping for 60 seconds.\n",
      "Fetched comments for 3700 posts so far\n",
      "Rate limit reached. Sleeping for 60 seconds.\n",
      "Rate limit reached. Sleeping for 60 seconds.\n",
      "Fetched comments for 3800 posts so far\n",
      "Rate limit reached. Sleeping for 60 seconds.\n",
      "Fetched comments for 3900 posts so far\n",
      "Rate limit reached. Sleeping for 60 seconds.\n",
      "Rate limit reached. Sleeping for 60 seconds.\n",
      "Fetched comments for 4000 posts so far\n",
      "Rate limit reached. Sleeping for 60 seconds.\n",
      "Rate limit reached. Sleeping for 60 seconds.\n",
      "Fetched comments for 4100 posts so far\n",
      "Rate limit reached. Sleeping for 60 seconds.\n",
      "Fetched comments for 4200 posts so far\n",
      "Rate limit reached. Sleeping for 60 seconds.\n",
      "Rate limit reached. Sleeping for 60 seconds.\n",
      "Fetched comments for 4300 posts so far\n",
      "Rate limit reached. Sleeping for 60 seconds.\n",
      "Rate limit reached. Sleeping for 60 seconds.\n",
      "Fetched comments for 4400 posts so far\n",
      "Rate limit reached. Sleeping for 60 seconds.\n",
      "Fetched comments for 4500 posts so far\n",
      "Rate limit reached. Sleeping for 60 seconds.\n",
      "Rate limit reached. Sleeping for 60 seconds.\n",
      "Fetched comments for 4600 posts so far\n",
      "Rate limit reached. Sleeping for 60 seconds.\n"
     ]
    }
   ],
   "source": [
    "all_comments = []\n",
    "\n",
    "# apply rate limiting with loop\n",
    "for i, post_id in enumerate(post_ids):\n",
    "    try:\n",
    "        comments_df = fetch_post_comments(post_id)\n",
    "        all_comments.append(comments_df)\n",
    "\n",
    "        if (i + 1) % 100 == 0:\n",
    "            print(f\"Fetched comments for {i + 1} posts so far\")\n",
    "\n",
    "        if (i + 1) % 60 == 0:  # every 60 requests, wait 60 seconds to avoid hitting rate limits\n",
    "            print(\"Rate limit reached. Sleeping for 60 seconds.\")\n",
    "            time.sleep(60)\n",
    "\n",
    "    except Exception as e:\n",
    "        print(f\"Error fetching comments for post {post_id}: {e}\")\n",
    "        time.sleep(5)"
   ]
  },
  {
   "cell_type": "code",
   "execution_count": 13,
   "id": "5d9b916f-3761-4c32-8d2f-cd750373ed77",
   "metadata": {},
   "outputs": [
    {
     "name": "stdout",
     "output_type": "stream",
     "text": [
      "Successfully saved 33822 comments from original posts\n"
     ]
    }
   ],
   "source": [
    "all_comments_df = pd.concat(all_comments, ignore_index=True)\n",
    "all_comments_df.to_csv(\"reddit_comments.csv\", index=False)\n",
    "\n",
    "print(f\"Successfully saved {len(all_comments_df)} comments from original posts\")"
   ]
  },
  {
   "cell_type": "code",
   "execution_count": null,
   "id": "2f65871e-ecdd-4a2d-9f75-9941d0a86a6a",
   "metadata": {},
   "outputs": [],
   "source": []
  }
 ],
 "metadata": {
  "kernelspec": {
   "display_name": "Python 3 (ipykernel)",
   "language": "python",
   "name": "python3"
  },
  "language_info": {
   "codemirror_mode": {
    "name": "ipython",
    "version": 3
   },
   "file_extension": ".py",
   "mimetype": "text/x-python",
   "name": "python",
   "nbconvert_exporter": "python",
   "pygments_lexer": "ipython3",
   "version": "3.12.8"
  }
 },
 "nbformat": 4,
 "nbformat_minor": 5
}
