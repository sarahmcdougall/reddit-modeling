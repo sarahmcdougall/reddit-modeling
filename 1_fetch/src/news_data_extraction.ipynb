{
 "cells": [
  {
   "cell_type": "markdown",
   "id": "518b2b68-31c5-4313-918d-34f66889e435",
   "metadata": {},
   "source": [
    "# News Data Extraction with News API"
   ]
  },
  {
   "cell_type": "code",
   "execution_count": 9,
   "id": "d4f0d671-5129-45ac-9965-9abaa1bca03e",
   "metadata": {},
   "outputs": [],
   "source": [
    "from newsapi import NewsApiClient\n",
    "import pandas as pd"
   ]
  },
  {
   "cell_type": "code",
   "execution_count": 2,
   "id": "74aacec5-e301-4f04-869e-512e255943ee",
   "metadata": {},
   "outputs": [],
   "source": [
    "api = NewsApiClient(api_key='c286a3b836224c04a0ca9cfd152cee51')"
   ]
  },
  {
   "cell_type": "code",
   "execution_count": 3,
   "id": "c8c65585-2dd5-49e2-a401-76d97d6e6a42",
   "metadata": {},
   "outputs": [],
   "source": [
    "query = \"pregnancy OR childbirth OR postpartum OR maternal health\""
   ]
  },
  {
   "cell_type": "code",
   "execution_count": 11,
   "id": "ebacfa67-c4ad-4b3a-a85c-bc4afdce3a1c",
   "metadata": {},
   "outputs": [],
   "source": [
    "# Note - with the free plan, we only have access to one month's worth of data\n",
    "# can answer the question - is topic X rising in Reddit conversations before appearing in the news?\n",
    "articles = api.get_everything(q=query, \n",
    "                                  language=\"en\", \n",
    "                                  sort_by=\"relevancy\",\n",
    "                                  page_size=100)"
   ]
  },
  {
   "cell_type": "code",
   "execution_count": 10,
   "id": "092110fa-6d08-419a-bbf8-b8cb4aefea95",
   "metadata": {},
   "outputs": [
    {
     "name": "stdout",
     "output_type": "stream",
     "text": [
      "                                               title  \\\n",
      "0  My Son's Birth Was Nearly Perfect, But Days La...   \n",
      "1  Women seeking abortions after using 'natural' ...   \n",
      "2  My husband is a teacher and the sole earner fo...   \n",
      "3  Trump’s Plan to Leave the WHO Is a Health Disa...   \n",
      "4  Born too late? Climate change may be delaying ...   \n",
      "\n",
      "                                         description  \\\n",
      "0  \"I picked up my phone 10 minutes later to two ...   \n",
      "1  Researchers have seen a shift from \"more relia...   \n",
      "2  We have five kids and my husband has reached t...   \n",
      "3  The exit will cut a huge chunk from the World ...   \n",
      "4  New research has found exposure to outdoor air...   \n",
      "\n",
      "                                             content          published_at  \\\n",
      "0  Our second night home from the hospital was st...  2025-01-20T02:31:02Z   \n",
      "1  There has been a rise in the proportion of wom...  2025-01-14T00:57:33Z   \n",
      "2  The author's husband (not pictured) still work...  2025-01-13T18:04:02Z   \n",
      "3  In the summer of 2020, 15 recognized leaders i...  2025-01-22T00:14:05Z   \n",
      "4  New Curtin University research has found expos...  2025-02-11T04:18:15Z   \n",
      "\n",
      "             source                                                url  \n",
      "0          Buzzfeed  https://www.buzzfeed.com/christinamcdowell/pos...  \n",
      "1          BBC News     https://www.bbc.com/news/articles/c391nlxrv4vo  \n",
      "2  Business Insider  https://www.businessinsider.com/my-husband-is-...  \n",
      "3             Wired  https://www.wired.com/story/trump-plan-to-leav...  \n",
      "4     Science Daily  https://www.sciencedaily.com/releases/2025/02/...  \n"
     ]
    }
   ],
   "source": [
    "news_df = pd.DataFrame([\n",
    "    {\n",
    "        \"title\": article[\"title\"],\n",
    "        \"description\": article[\"description\"],\n",
    "        \"content\": article[\"content\"],\n",
    "        \"published_at\": article[\"publishedAt\"],\n",
    "        \"source\": article[\"source\"][\"name\"],\n",
    "        \"url\": article[\"url\"]\n",
    "    }\n",
    "    for article in articles[\"articles\"]\n",
    "])\n",
    "\n",
    "print(news_df.head())"
   ]
  },
  {
   "cell_type": "code",
   "execution_count": 13,
   "id": "20486725-33ff-4f96-a74f-53f6a875a03b",
   "metadata": {},
   "outputs": [],
   "source": [
    "news_df.to_csv('news_data.csv', index=False)"
   ]
  }
 ],
 "metadata": {
  "kernelspec": {
   "display_name": "Python 3 (ipykernel)",
   "language": "python",
   "name": "python3"
  },
  "language_info": {
   "codemirror_mode": {
    "name": "ipython",
    "version": 3
   },
   "file_extension": ".py",
   "mimetype": "text/x-python",
   "name": "python",
   "nbconvert_exporter": "python",
   "pygments_lexer": "ipython3",
   "version": "3.12.8"
  }
 },
 "nbformat": 4,
 "nbformat_minor": 5
}
